{
 "cells": [
  {
   "cell_type": "code",
   "execution_count": 194,
   "metadata": {},
   "outputs": [],
   "source": [
    "# Adversarial Neural Cryptography - https://arxiv.org/pdf/1610.06918.pdf"
   ]
  },
  {
   "cell_type": "code",
   "execution_count": 195,
   "metadata": {},
   "outputs": [],
   "source": [
    "# Necessary imports\n",
    "import torch\n",
    "import random\n",
    "\n",
    "import numpy as np\n",
    "from torch import nn\n",
    "\n",
    "import matplotlib.pyplot as plt"
   ]
  },
  {
   "cell_type": "code",
   "execution_count": 196,
   "metadata": {},
   "outputs": [],
   "source": [
    "# Define the length of the key and the message\n",
    "pln_txt_len = sec_key_len = cip_txt_len = 16"
   ]
  },
  {
   "cell_type": "code",
   "execution_count": 197,
   "metadata": {},
   "outputs": [
    {
     "name": "stdout",
     "output_type": "stream",
     "text": [
      "torch.Size([256, 16]) torch.Size([256, 16])\n"
     ]
    }
   ],
   "source": [
    "# Function to generate a random plain text and a secret key\n",
    "def create_batch(plain_text_len, secret_key_len, batch_size):\n",
    "    plain_text = torch.zeros(batch_size, plain_text_len)\n",
    "    secret_key = torch.zeros(batch_size, secret_key_len)\n",
    "    \n",
    "    for i in range(batch_size):\n",
    "        for j in range(plain_text_len):\n",
    "            plain_text[i][j] = random.randint(0, 1)\n",
    "        for j in range(secret_key_len):\n",
    "            secret_key[i][j] = random.randint(0, 1)\n",
    "            \n",
    "    return plain_text.float(), secret_key.float()\n",
    "\n",
    "plain_text, secret_key = create_batch(pln_txt_len, sec_key_len, 256)\n",
    "print(plain_text.shape, secret_key.shape)"
   ]
  },
  {
   "cell_type": "code",
   "execution_count": 198,
   "metadata": {},
   "outputs": [],
   "source": [
    "# Alice's network\n",
    "\n",
    "class Alice_Net(nn.Module):\n",
    "    def __init__(self, plain_text_len, secret_key_len, cipher_text_len):\n",
    "        super(Alice_Net, self).__init__()\n",
    "        self.input_size  = plain_text_len + secret_key_len\n",
    "        self.output_size = cipher_text_len\n",
    "        \n",
    "        self.W = nn.Sequential(\n",
    "            nn.Linear(self.input_size, self.input_size),\n",
    "            nn.Tanh(),\n",
    "        )\n",
    "        \n",
    "        self.C = nn.Sequential(\n",
    "            nn.Conv1d(1, 2, 4, stride=1, padding=2),\n",
    "            nn.Tanh(),  \n",
    "            nn.Conv1d(2, 4, 2, stride=2, padding=0),\n",
    "            nn.Tanh(), \n",
    "            nn.Conv1d(4, 4, 1, stride=1, padding=0),\n",
    "            nn.Tanh(),   \n",
    "            nn.Conv1d(4, 1, 1, stride=1, padding=0),\n",
    "            nn.Sigmoid(),      \n",
    "        )\n",
    "        \n",
    "    def forward(self, plain_text, secret_key):\n",
    "        x = torch.cat((plain_text, secret_key), axis=-1)\n",
    "        x = torch.unsqueeze(x, 1)\n",
    "        \n",
    "        x = self.W(x)\n",
    "        x = self.C(x)\n",
    "        \n",
    "        x = x.view(-1, self.output_size)\n",
    "        return x\n",
    "    \n",
    "    def encrypt(self, plain_text, secret_key):\n",
    "        encrypted_text = self.forward(plain_text, secret_key)\n",
    "        return torch.as_tensor((encrypted_text - 0.5) > 0, dtype=torch.float32)"
   ]
  },
  {
   "cell_type": "code",
   "execution_count": 199,
   "metadata": {},
   "outputs": [],
   "source": [
    "# Bob's network\n",
    "\n",
    "class Bob_Net(nn.Module):\n",
    "    def __init__(self, plain_text_len, secret_key_len, cipher_text_len):\n",
    "        super(Bob_Net, self).__init__()\n",
    "        self.input_size  = cipher_text_len + secret_key_len\n",
    "        self.output_size = plain_text_len\n",
    "        \n",
    "        self.W = nn.Sequential(\n",
    "            nn.Linear(self.input_size, self.input_size),\n",
    "            nn.Tanh(),\n",
    "        )\n",
    "        \n",
    "        self.C = nn.Sequential(\n",
    "            nn.Conv1d(1, 2, 4, stride=1, padding=2),\n",
    "            nn.Tanh(),  \n",
    "            nn.Conv1d(2, 4, 2, stride=2, padding=0),\n",
    "            nn.Tanh(), \n",
    "            nn.Conv1d(4, 4, 1, stride=1, padding=0),\n",
    "            nn.Tanh(),   \n",
    "            nn.Conv1d(4, 1, 1, stride=1, padding=0),\n",
    "            nn.Sigmoid(),      \n",
    "        )\n",
    "        \n",
    "    def forward(self, cipher_text, secret_key):\n",
    "        x = torch.cat((cipher_text, secret_key), axis=-1)\n",
    "        x = torch.unsqueeze(x, 1)\n",
    "        \n",
    "        x = self.W(x)\n",
    "        x = self.C(x)\n",
    "        \n",
    "        x = x.view(-1, self.output_size)\n",
    "        return x\n",
    "    \n",
    "    def decrypt(self, cipher_text, secret_key):\n",
    "        decrypted_text = self.forward(cipher_text, secret_key)\n",
    "        return torch.as_tensor((decrypted_text - 0.5) > 0, dtype=torch.float32)"
   ]
  },
  {
   "cell_type": "code",
   "execution_count": 200,
   "metadata": {},
   "outputs": [],
   "source": [
    "# Eve's network\n",
    "\n",
    "class Eve_Net(nn.Module):\n",
    "    def __init__(self, plain_text_len, cipher_text_len):\n",
    "        super(Eve_Net, self).__init__()\n",
    "        self.input_size  = cipher_text_len\n",
    "        self.output_size = plain_text_len\n",
    "        \n",
    "        self.W = nn.Sequential(\n",
    "            nn.Linear(self.input_size, 2 * self.input_size),\n",
    "            nn.Tanh(),\n",
    "        )\n",
    "        \n",
    "        self.C = nn.Sequential(\n",
    "            nn.Conv1d(1, 2, 4, stride=1, padding=2),\n",
    "            nn.Tanh(),  \n",
    "            nn.Conv1d(2, 4, 2, stride=2, padding=0),\n",
    "            nn.Tanh(), \n",
    "            nn.Conv1d(4, 4, 1, stride=1, padding=0),\n",
    "            nn.Tanh(),   \n",
    "            nn.Conv1d(4, 1, 1, stride=1, padding=0),\n",
    "            nn.Sigmoid(),      \n",
    "        )\n",
    "        \n",
    "    def forward(self, cipher_text):\n",
    "        x = torch.unsqueeze(cipher_text, 1)\n",
    "        \n",
    "        x = self.W(x)\n",
    "        x = self.C(x)\n",
    "        \n",
    "        x = x.view(-1, self.output_size)\n",
    "        return x\n",
    "    \n",
    "    def eavesdrop(self, cipher_text):\n",
    "        eavesdrop_text = self.forward(cipher_text)\n",
    "        return torch.as_tensor((eavesdrop_text - 0.5) > 0, dtype=torch.float32)"
   ]
  },
  {
   "cell_type": "code",
   "execution_count": 201,
   "metadata": {},
   "outputs": [
    {
     "name": "stdout",
     "output_type": "stream",
     "text": [
      "NVIDIA GeForce RTX 2070 Super with Max-Q Design\n"
     ]
    }
   ],
   "source": [
    "# Define the device\n",
    "\n",
    "USE_CUDA = torch.cuda.is_available()\n",
    "device = torch.device(\"cuda\" if USE_CUDA else \"cpu\")\n",
    "print(torch.cuda.get_device_name(torch.cuda.current_device()))"
   ]
  },
  {
   "cell_type": "code",
   "execution_count": 202,
   "metadata": {},
   "outputs": [
    {
     "name": "stdout",
     "output_type": "stream",
     "text": [
      "All models instantiated successfully !!!\n"
     ]
    }
   ],
   "source": [
    "# Instantiate the models\n",
    "Alice = Alice_Net(pln_txt_len, sec_key_len, cip_txt_len).to(device)\n",
    "Bob   = Bob_Net(pln_txt_len, sec_key_len, cip_txt_len).to(device)\n",
    "Eve   = Eve_Net(pln_txt_len, cip_txt_len).to(device)\n",
    "\n",
    "print(\"All models instantiated successfully !!!\")"
   ]
  },
  {
   "cell_type": "code",
   "execution_count": 203,
   "metadata": {},
   "outputs": [
    {
     "name": "stdout",
     "output_type": "stream",
     "text": [
      "Models loaded successfully !!!\n"
     ]
    }
   ],
   "source": [
    "# Import saved the models\n",
    "Alice.load_state_dict(torch.load(\"../CNN_models/CNN_Alice.pth\"))\n",
    "Bob.load_state_dict(torch.load(\"../CNN_models/CNN_Bob.pth\"))\n",
    "Eve.load_state_dict(torch.load(\"../CNN_models/CNN_Eve.pth\"))\n",
    "\n",
    "print(\"Models loaded successfully !!!\")"
   ]
  },
  {
   "cell_type": "code",
   "execution_count": 204,
   "metadata": {},
   "outputs": [],
   "source": [
    "def hamming_distance(x, y):\n",
    "    count = 0\n",
    "    \n",
    "    for i in range(len(x)):\n",
    "        if x[i] != y[i]:\n",
    "            count += 1\n",
    "    \n",
    "    return count   "
   ]
  },
  {
   "cell_type": "code",
   "execution_count": 205,
   "metadata": {},
   "outputs": [
    {
     "name": "stdout",
     "output_type": "stream",
     "text": [
      "Plain text:   0010111011010000\n",
      "Cipher text:  1001110000111101\n",
      "Bob's output: 0010111100010000 Distance: 3\n",
      "Eve's output: 0010111100011000 Distance: 4\n"
     ]
    }
   ],
   "source": [
    "# Set the models to evaluation mode\n",
    "Alice.eval()\n",
    "Bob.eval()\n",
    "Eve.eval()\n",
    "\n",
    "# Test the networks\n",
    "plain_text, secret_key = create_batch(pln_txt_len, sec_key_len, 1)\n",
    "plain_text, secret_key = plain_text.to(device), secret_key.to(device)\n",
    "\n",
    "# Encrypt and decrypt the plain text\n",
    "encrypted_text = Alice.encrypt(plain_text, secret_key)\n",
    "decrypted_text = Bob.decrypt(encrypted_text, secret_key)\n",
    "eavesdrop_text = Eve.eavesdrop(encrypted_text)\n",
    "\n",
    "plain_text     = plain_text.detach().cpu().squeeze().numpy()\n",
    "plain_text     = \"\".join(str(int(i)) for i in plain_text)\n",
    "\n",
    "encrypted_text = encrypted_text.detach().cpu().squeeze().numpy()\n",
    "encrypted_text = \"\".join(str(int(i)) for i in encrypted_text)\n",
    "\n",
    "decrypted_text = decrypted_text.detach().cpu().squeeze().numpy()\n",
    "decrypted_text = \"\".join(str(int(i)) for i in decrypted_text)\n",
    "\n",
    "eavesdrop_text = eavesdrop_text.detach().cpu().squeeze().numpy()\n",
    "eavesdrop_text = \"\".join(str(int(i)) for i in eavesdrop_text)\n",
    "\n",
    "print(\"Plain text:  \", plain_text)\n",
    "print(\"Cipher text: \", encrypted_text)\n",
    "\n",
    "print(\"Bob's output:\", decrypted_text, \"Distance:\", hamming_distance(plain_text, decrypted_text))\n",
    "print(\"Eve's output:\", eavesdrop_text, \"Distance:\", hamming_distance(plain_text, eavesdrop_text))"
   ]
  }
 ],
 "metadata": {
  "kernelspec": {
   "display_name": "pytorch-wsl",
   "language": "python",
   "name": "python3"
  },
  "language_info": {
   "codemirror_mode": {
    "name": "ipython",
    "version": 3
   },
   "file_extension": ".py",
   "mimetype": "text/x-python",
   "name": "python",
   "nbconvert_exporter": "python",
   "pygments_lexer": "ipython3",
   "version": "3.8.13"
  },
  "orig_nbformat": 4
 },
 "nbformat": 4,
 "nbformat_minor": 2
}
