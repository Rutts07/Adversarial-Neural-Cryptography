{
  "cells": [
    {
      "cell_type": "code",
      "execution_count": 15,
      "metadata": {
        "id": "QOB2o6iQODQI"
      },
      "outputs": [],
      "source": [
        "# Adversarial Neural Cryptography - https://arxiv.org/pdf/1610.06918.pdf"
      ]
    },
    {
      "cell_type": "code",
      "execution_count": 16,
      "metadata": {
        "id": "KIfTbbUrODQL"
      },
      "outputs": [],
      "source": [
        "# Necessary imports\n",
        "import torch\n",
        "import random\n",
        "\n",
        "import numpy as np\n",
        "from torch import nn\n",
        "\n",
        "import matplotlib.pyplot as plt"
      ]
    },
    {
      "cell_type": "code",
      "execution_count": 17,
      "metadata": {
        "id": "S-xI9YgyODQM"
      },
      "outputs": [],
      "source": [
        "# Define the length of the key and the message\n",
        "pln_txt_len = sec_key_len = cip_txt_len = N = 16"
      ]
    },
    {
      "cell_type": "code",
      "execution_count": 18,
      "metadata": {
        "colab": {
          "base_uri": "https://localhost:8080/"
        },
        "id": "5X-z9zB_ODQM",
        "outputId": "3a471f58-2852-4dbd-de24-7902c6bb1ed1"
      },
      "outputs": [
        {
          "output_type": "stream",
          "name": "stdout",
          "text": [
            "torch.Size([256, 16]) torch.Size([256, 16])\n"
          ]
        }
      ],
      "source": [
        "# Function to generate a random plain text and a secret key\n",
        "def create_batch(plain_text_len, secret_key_len, batch_size):\n",
        "    plain_text = torch.zeros(batch_size, plain_text_len)\n",
        "    secret_key = torch.zeros(batch_size, secret_key_len)\n",
        "    \n",
        "    for i in range(batch_size):\n",
        "        for j in range(plain_text_len):\n",
        "            plain_text[i][j] = random.randint(0, 1)\n",
        "        for j in range(secret_key_len):\n",
        "            secret_key[i][j] = random.randint(0, 1)\n",
        "            \n",
        "    return plain_text.float(), secret_key.float()\n",
        "\n",
        "plain_text, secret_key = create_batch(pln_txt_len, sec_key_len, 256)\n",
        "print(plain_text.shape, secret_key.shape)"
      ]
    },
    {
      "cell_type": "code",
      "execution_count": 19,
      "metadata": {
        "id": "hm-FFISLODQO"
      },
      "outputs": [],
      "source": [
        "# Alice's network\n",
        "\n",
        "class Alice_Net(nn.Module):\n",
        "    def __init__(self, plain_text_len, secret_key_len, cipher_text_len):\n",
        "        super(Alice_Net, self).__init__()\n",
        "        self.input_size  = plain_text_len + secret_key_len\n",
        "        self.output_size = cipher_text_len\n",
        "        \n",
        "        self.W = nn.Sequential(\n",
        "            nn.Linear(self.input_size, self.input_size),\n",
        "            nn.Tanh(),\n",
        "        )\n",
        "        \n",
        "        self.C = nn.Sequential(\n",
        "            nn.Conv1d(1, 2, 4, stride=1, padding=2),\n",
        "            nn.Tanh(),  \n",
        "            nn.Conv1d(2, 4, 2, stride=2, padding=0),\n",
        "            nn.Tanh(), \n",
        "            nn.Conv1d(4, 4, 1, stride=1, padding=0),\n",
        "            nn.Tanh(),   \n",
        "            nn.Conv1d(4, 1, 1, stride=1, padding=0),\n",
        "            nn.Sigmoid(),      \n",
        "        )\n",
        "        \n",
        "    def forward(self, plain_text, secret_key):\n",
        "        x = torch.cat((plain_text, secret_key), axis=-1)\n",
        "        x = torch.unsqueeze(x, 1)\n",
        "        \n",
        "        x = self.W(x)\n",
        "        x = self.C(x)\n",
        "        \n",
        "        x = torch.squeeze(x, 1)\n",
        "        return x\n",
        "    \n",
        "    def encrypt(self, plain_text, secret_key):\n",
        "        encrypted_text = self.forward(plain_text, secret_key)\n",
        "        return torch.as_tensor((encrypted_text - 0.5) > 0, dtype=torch.float32)"
      ]
    },
    {
      "cell_type": "code",
      "execution_count": 20,
      "metadata": {
        "id": "bPNnbbqeODQP"
      },
      "outputs": [],
      "source": [
        "# Bob's network\n",
        "\n",
        "class Bob_Net(nn.Module):\n",
        "    def __init__(self, plain_text_len, secret_key_len, cipher_text_len):\n",
        "        super(Bob_Net, self).__init__()\n",
        "        self.input_size  = cipher_text_len + secret_key_len\n",
        "        self.output_size = plain_text_len\n",
        "        \n",
        "        self.W = nn.Sequential(\n",
        "            nn.Linear(self.input_size, self.input_size),\n",
        "            nn.Tanh(),\n",
        "        )\n",
        "        \n",
        "        self.C = nn.Sequential(\n",
        "            nn.Conv1d(1, 2, 4, stride=1, padding=2),\n",
        "            nn.Tanh(),  \n",
        "            nn.Conv1d(2, 4, 2, stride=2, padding=0),\n",
        "            nn.Tanh(), \n",
        "            nn.Conv1d(4, 4, 1, stride=1, padding=0),\n",
        "            nn.Tanh(),   \n",
        "            nn.Conv1d(4, 1, 1, stride=1, padding=0),\n",
        "            nn.Sigmoid(),      \n",
        "        )\n",
        "        \n",
        "    def forward(self, cipher_text, secret_key):\n",
        "        x = torch.cat((cipher_text, secret_key), axis=-1)\n",
        "        x = torch.unsqueeze(x, 1)\n",
        "        \n",
        "        x = self.W(x)\n",
        "        x = self.C(x)\n",
        "        \n",
        "        x = torch.squeeze(x, 1)\n",
        "        return x\n",
        "    \n",
        "    def decrypt(self, cipher_text, secret_key):\n",
        "        decrypted_text = self.forward(cipher_text, secret_key)\n",
        "        return torch.as_tensor((decrypted_text - 0.5) > 0, dtype=torch.float32)"
      ]
    },
    {
      "cell_type": "code",
      "execution_count": 21,
      "metadata": {
        "id": "vfzNR2qUODQQ"
      },
      "outputs": [],
      "source": [
        "# Eve's network\n",
        "\n",
        "class Eve_Net(nn.Module):\n",
        "    def __init__(self, plain_text_len, cipher_text_len):\n",
        "        super(Eve_Net, self).__init__()\n",
        "        self.input_size  = cipher_text_len\n",
        "        self.output_size = plain_text_len\n",
        "        \n",
        "        self.W = nn.Sequential(\n",
        "            nn.Linear(self.input_size, 2 * self.input_size),\n",
        "            nn.Tanh(),\n",
        "        )\n",
        "        \n",
        "        self.C = nn.Sequential(\n",
        "            nn.Conv1d(1, 2, 4, stride=1, padding=2),\n",
        "            nn.Tanh(),  \n",
        "            nn.Conv1d(2, 4, 2, stride=2, padding=0),\n",
        "            nn.Tanh(), \n",
        "            nn.Conv1d(4, 4, 1, stride=1, padding=0),\n",
        "            nn.Tanh(),   \n",
        "            nn.Conv1d(4, 1, 1, stride=1, padding=0),\n",
        "            nn.Sigmoid(),      \n",
        "        )\n",
        "        \n",
        "    def forward(self, cipher_text):\n",
        "        x = torch.unsqueeze(cipher_text, 1)\n",
        "        \n",
        "        x = self.W(x)\n",
        "        x = self.C(x)\n",
        "        \n",
        "        x = torch.squeeze(x, 1)\n",
        "        return x\n",
        "    \n",
        "    def eavesdrop(self, cipher_text):\n",
        "        eavesdrop_text = self.forward(cipher_text)\n",
        "        return torch.as_tensor((eavesdrop_text - 0.5) > 0, dtype=torch.float32)"
      ]
    },
    {
      "cell_type": "code",
      "execution_count": 22,
      "metadata": {
        "colab": {
          "base_uri": "https://localhost:8080/"
        },
        "id": "gdnAsxoXODQQ",
        "outputId": "1a895826-9b78-429f-c143-ad1a000a8bcd"
      },
      "outputs": [
        {
          "output_type": "stream",
          "name": "stdout",
          "text": [
            "Tesla T4\n"
          ]
        }
      ],
      "source": [
        "# Define the device\n",
        "\n",
        "USE_CUDA = torch.cuda.is_available()\n",
        "device = torch.device(\"cuda\" if USE_CUDA else \"cpu\")\n",
        "print(torch.cuda.get_device_name(torch.cuda.current_device()))"
      ]
    },
    {
      "cell_type": "code",
      "execution_count": 23,
      "metadata": {
        "colab": {
          "base_uri": "https://localhost:8080/"
        },
        "id": "IRkng47nODQR",
        "outputId": "7d741906-976b-45e4-ea2c-ac8d2d01d324"
      },
      "outputs": [
        {
          "output_type": "stream",
          "name": "stdout",
          "text": [
            "All models instantiated successfully !!!\n"
          ]
        }
      ],
      "source": [
        "# Instantiate the models\n",
        "\n",
        "Alice = Alice_Net(pln_txt_len, sec_key_len, cip_txt_len).to(device)\n",
        "Bob   = Bob_Net(pln_txt_len, sec_key_len, cip_txt_len).to(device)\n",
        "Eve   = Eve_Net(pln_txt_len, cip_txt_len).to(device)\n",
        "\n",
        "print(\"All models instantiated successfully !!!\")"
      ]
    },
    {
      "cell_type": "code",
      "execution_count": 24,
      "metadata": {
        "id": "QZxByxdcODQR"
      },
      "outputs": [],
      "source": [
        "# Hyperparameters\n",
        "n_epochs   = 20\n",
        "eve_edge   = 2\n",
        "\n",
        "train_size = 2 ** 16\n",
        "batch_size = 512\n",
        "\n",
        "# Define the optimizers\n",
        "lr = 0.0008\n",
        "\n",
        "optim_Alice_Bob = torch.optim.Adam(list(Alice.parameters()) + list(Bob.parameters()), lr=lr)\n",
        "optim_Eve   = torch.optim.Adam(Eve.parameters(), lr=lr)\n",
        "\n",
        "optimizers  = [optim_Alice_Bob, optim_Eve]"
      ]
    },
    {
      "cell_type": "code",
      "execution_count": 25,
      "metadata": {
        "id": "Et8mrzqpODQS"
      },
      "outputs": [],
      "source": [
        "# Custom Loss functions\n",
        "class AliceBobLoss(nn.Module):\n",
        "    def __init__(self):\n",
        "        super(AliceBobLoss, self).__init__()\n",
        "    \n",
        "    def forward(self, plain_text, decrypted_text, alice_eve_loss):\n",
        "        loss = torch.mean(torch.sum(torch.abs(torch.sub(plain_text,decrypted_text)), 1))\n",
        "        # loss += (1 - 2 * alice_eve_loss.item())**2\n",
        "        loss += ((N/2 - alice_eve_loss.item())**2)/((N/2)**2)\n",
        "        return loss\n",
        "    \n",
        "class AliceEveLoss(nn.Module):\n",
        "    def __init__(self):\n",
        "        super(AliceEveLoss, self).__init__()\n",
        "    \n",
        "    def forward(self, plain_text, eavesdrop_text):\n",
        "        return torch.mean(torch.sum(torch.abs(torch.sub(plain_text,eavesdrop_text)), 1))\n",
        "    \n",
        "criterion_AliceBob = AliceBobLoss()\n",
        "criterion_AliceEve = AliceEveLoss()\n",
        "\n",
        "criterions = [criterion_AliceBob, criterion_AliceEve]\n",
        "\n",
        "def hamming_distance(x, y):\n",
        "    return torch.sum(torch.abs(x - y))"
      ]
    },
    {
      "cell_type": "code",
      "execution_count": 26,
      "metadata": {
        "colab": {
          "base_uri": "https://localhost:8080/"
        },
        "id": "Mh3t1GDdODQS",
        "outputId": "ebf1eb63-f209-4650-b330-7bee2d57ff66"
      },
      "outputs": [
        {
          "output_type": "stream",
          "name": "stdout",
          "text": [
            "Training started ...\n",
            "Epoch: 1/20 | Average number of bits wrong (of 16) Bob: 8.0021 , Eve: 8.0021\n",
            "Epoch: 2/20 | Average number of bits wrong (of 16) Bob: 5.791 , Eve: 6.8809\n",
            "Epoch: 3/20 | Average number of bits wrong (of 16) Bob: 3.2401 , Eve: 6.0313\n",
            "Epoch: 4/20 | Average number of bits wrong (of 16) Bob: 2.8098 , Eve: 7.763\n",
            "Epoch: 5/20 | Average number of bits wrong (of 16) Bob: 2.6462 , Eve: 7.9616\n",
            "Epoch: 6/20 | Average number of bits wrong (of 16) Bob: 2.5458 , Eve: 7.9717\n",
            "Epoch: 7/20 | Average number of bits wrong (of 16) Bob: 2.5148 , Eve: 7.9627\n",
            "Epoch: 8/20 | Average number of bits wrong (of 16) Bob: 2.4896 , Eve: 7.9916\n",
            "Epoch: 9/20 | Average number of bits wrong (of 16) Bob: 2.4294 , Eve: 7.9854\n",
            "Epoch: 10/20 | Average number of bits wrong (of 16) Bob: 2.3943 , Eve: 7.9868\n",
            "Epoch: 11/20 | Average number of bits wrong (of 16) Bob: 2.3622 , Eve: 7.9894\n",
            "Epoch: 12/20 | Average number of bits wrong (of 16) Bob: 2.3466 , Eve: 7.9861\n",
            "Epoch: 13/20 | Average number of bits wrong (of 16) Bob: 2.3079 , Eve: 7.9983\n",
            "Epoch: 14/20 | Average number of bits wrong (of 16) Bob: 2.2817 , Eve: 7.9623\n",
            "Epoch: 15/20 | Average number of bits wrong (of 16) Bob: 2.2712 , Eve: 7.9752\n",
            "Epoch: 16/20 | Average number of bits wrong (of 16) Bob: 2.2601 , Eve: 7.9799\n",
            "Epoch: 17/20 | Average number of bits wrong (of 16) Bob: 2.2457 , Eve: 7.9462\n",
            "Epoch: 18/20 | Average number of bits wrong (of 16) Bob: 2.2303 , Eve: 7.9733\n",
            "Epoch: 19/20 | Average number of bits wrong (of 16) Bob: 2.239 , Eve: 7.9814\n",
            "Epoch: 20/20 | Average number of bits wrong (of 16) Bob: 2.2394 , Eve: 7.9883\n",
            "Training completed !!!\n"
          ]
        }
      ],
      "source": [
        "# Train the networks\n",
        "# Eve is trained eve_edge times for every training of Alice and Bob\n",
        "\n",
        "def train(Alice, Bob, Eve, criterions, optimizers, train_size=10000, eve_edge=2, n_epochs=100, batch_size=256):\n",
        "    print(\"Training started ...\")\n",
        "    \n",
        "    # Initialize the losses\n",
        "    n_batches = train_size // batch_size\n",
        "    alice_bob_dist, alice_eve_dist = np.zeros(n_epochs * n_batches), np.zeros(n_epochs * n_batches)\n",
        "    \n",
        "    for epoch in range(n_epochs):\n",
        "        bob_dist, eve_dist = np.zeros(n_batches), np.zeros(n_batches)\n",
        "        alice_eve_loss = torch.tensor(sec_key_len * 0.5, requires_grad=True, device=device)\n",
        "                \n",
        "        for batch in range(n_batches):            \n",
        "            plain_text, secret_key = create_batch(pln_txt_len, sec_key_len, batch_size)\n",
        "            plain_text, secret_key = plain_text.to(device), secret_key.to(device)\n",
        "        \n",
        "            # Train Alice and Bob\n",
        "            optimizers[0].zero_grad()\n",
        "        \n",
        "            encrypted_text = Alice(plain_text, secret_key)\n",
        "            decrypted_text = Bob(encrypted_text, secret_key)\n",
        "\n",
        "            # Expectation of the loss\n",
        "            eve_loss = criterions[1](plain_text, Eve(encrypted_text))\n",
        "            # bob_loss = criterions[0](plain_text, decrypted_text, alice_eve_loss)\n",
        "            bob_loss = criterions[0](plain_text, decrypted_text, eve_loss)\n",
        "            \n",
        "            bob_loss.backward()\n",
        "            optimizers[0].step()\n",
        "\n",
        "            # Train Eve\n",
        "            for _ in range(eve_edge):\n",
        "                plain_text, secret_key = create_batch(pln_txt_len, sec_key_len, batch_size)\n",
        "                plain_text, secret_key = plain_text.to(device), secret_key.to(device)\n",
        "            \n",
        "                optimizers[1].zero_grad()\n",
        "                \n",
        "                # Detach the encrypted text from the graph to prevent backpropagation\n",
        "                encrypted_text = Alice(plain_text, secret_key).detach()\n",
        "                eavesdrop_text = Eve(encrypted_text)\n",
        "            \n",
        "                # Expectation of the loss\n",
        "                eve_loss = criterions[1](plain_text, eavesdrop_text)                \n",
        "                alice_eve_loss = min(alice_eve_loss, eve_loss)\n",
        "                \n",
        "                # eve_loss.backward(retain_graph=True)\n",
        "                alice_eve_loss.backward(retain_graph=True)\n",
        "                optimizers[1].step()\n",
        "                \n",
        "            # Validation for Alice, Bob and Eve\n",
        "            with torch.no_grad():\n",
        "                plain_text, secret_key = create_batch(pln_txt_len, sec_key_len, 128)\n",
        "                plain_text, secret_key = plain_text.to(device), secret_key.to(device)\n",
        "            \n",
        "                encrypted_text = Alice.encrypt(plain_text, secret_key)\n",
        "                decrypted_text = Bob.decrypt(encrypted_text, secret_key)\n",
        "                eavesdrop_text = Eve.eavesdrop(encrypted_text)\n",
        "            \n",
        "                ab = hamming_distance(decrypted_text, plain_text).cpu().numpy() / 128 * 1.0\n",
        "                ae = hamming_distance(eavesdrop_text, plain_text).cpu().numpy() / 128 * 1.0\n",
        "                \n",
        "                alice_bob_dist[epoch * n_batches + batch] = bob_dist[batch] = ab\n",
        "                alice_eve_dist[epoch * n_batches + batch] = eve_dist[batch] = ae\n",
        "                \n",
        "            print(\"\\rEpoch: {}/{} | Batch: {}/{} | Bob: {:.4f} | Eve: {:.4f}\".format(epoch+1, n_epochs, batch+1, n_batches, bob_loss, eve_loss), end=\"\", flush=True)\n",
        "              \n",
        "        print(\"\\rEpoch: {}/{} | Average number of bits wrong (of {}) Bob: {} , Eve: {}\".format(epoch+1, n_epochs, sec_key_len, np.round(np.mean(bob_dist), 4), np.round(np.mean(eve_dist), 4)), end='\\n', flush=True)\n",
        "    \n",
        "    print(\"\\rTraining completed !!!\")\n",
        "    return alice_bob_dist, alice_eve_dist\n",
        "    \n",
        "# Set the models to train mode\n",
        "Alice.train()\n",
        "Bob.train()\n",
        "Eve.train()\n",
        "\n",
        "ab_dist, ae_dist = train(Alice, Bob, Eve, criterions, optimizers, train_size, eve_edge, n_epochs, batch_size)"
      ]
    },
    {
      "cell_type": "code",
      "execution_count": 27,
      "metadata": {
        "colab": {
          "base_uri": "https://localhost:8080/",
          "height": 641
        },
        "id": "bkXdnplWODQT",
        "outputId": "cd992d7a-a22c-4ae9-fe1f-53c099462833"
      },
      "outputs": [
        {
          "output_type": "display_data",
          "data": {
            "text/plain": [
              "<Figure size 1000x700 with 1 Axes>"
            ],
            "image/png": "[encoded data removed]"
          },
          "metadata": {}
        }
      ],
      "source": [
        "# Plot the results\n",
        "plt.figure(figsize=(10, 7))\n",
        "plt.title(\"Alice-Bob and Alice-Eve Distances for {} bits\".format(sec_key_len))\n",
        "\n",
        "steps = np.arange(ab_dist.shape[0])\n",
        "plt.plot(steps, ab_dist, label=\"Alice-Bob\")\n",
        "plt.plot(steps, ae_dist, label=\"Alice-Eve\")\n",
        "plt.ylabel(\"Hamming Distance\")\n",
        "plt.xlabel(\"Steps\")\n",
        "\n",
        "plt.legend()\n",
        "plt.show()"
      ]
    },
    {
      "cell_type": "code",
      "execution_count": 28,
      "metadata": {
        "colab": {
          "base_uri": "https://localhost:8080/"
        },
        "id": "sibYuo2aODQT",
        "outputId": "c9adc8b8-0f12-4797-b726-789f922fa8c9"
      },
      "outputs": [
        {
          "output_type": "stream",
          "name": "stdout",
          "text": [
            "Plain text:  [0. 1. 0. 0. 0. 0. 0. 1. 1. 1. 1. 1. 0. 1. 1. 0.]\n",
            "Encrypted text:  [1. 0. 0. 0. 1. 1. 1. 0. 0. 1. 1. 0. 0. 1. 0. 0.]\n",
            "Bob's decrypted text: [0. 0. 1. 0. 0. 0. 0. 1. 1. 1. 1. 1. 0. 1. 1. 0.], Distance: 2.0000\n",
            "Eve's eavesdrop text: [0. 0. 1. 1. 0. 0. 0. 0. 1. 1. 1. 0. 0. 0. 0. 0.], Distance: 7.0000\n"
          ]
        }
      ],
      "source": [
        "# Set the models to evaluation mode\n",
        "Alice.eval()\n",
        "Bob.eval()\n",
        "Eve.eval()\n",
        "\n",
        "# Test the networks\n",
        "plain_text, secret_key = create_batch(pln_txt_len, sec_key_len, 1)\n",
        "plain_text, secret_key = plain_text.to(device), secret_key.to(device)\n",
        "\n",
        "print(\"Plain text: \", plain_text.cpu().squeeze().numpy())\n",
        "\n",
        "encrypted_text = Alice.encrypt(plain_text, secret_key)\n",
        "print(\"Encrypted text: \", encrypted_text.detach().cpu().squeeze().numpy())\n",
        "      \n",
        "decrypted_text = Bob.decrypt(encrypted_text, secret_key)\n",
        "print(\"Bob's decrypted text: {}, Distance: {:.4f}\".format(decrypted_text.detach().cpu().squeeze().numpy(), hamming_distance(decrypted_text, plain_text).item()))\n",
        "\n",
        "eavesdrop_text = Eve.eavesdrop(encrypted_text)\n",
        "print(\"Eve's eavesdrop text: {}, Distance: {:.4f}\".format(eavesdrop_text.detach().cpu().squeeze().numpy(), hamming_distance(eavesdrop_text, plain_text).item()))"
      ]
    },
    {
      "cell_type": "code",
      "execution_count": 28,
      "metadata": {
        "id": "KcL17tH1Pw04"
      },
      "outputs": [],
      "source": []
    }
  ],
  "metadata": {
    "accelerator": "GPU",
    "colab": {
      "provenance": [],
      "gpuType": "T4"
    },
    "gpuClass": "standard",
    "kernelspec": {
      "display_name": "pytorch-wsl",
      "language": "python",
      "name": "python3"
    },
    "language_info": {
      "codemirror_mode": {
        "name": "ipython",
        "version": 3
      },
      "file_extension": ".py",
      "mimetype": "text/x-python",
      "name": "python",
      "nbconvert_exporter": "python",
      "pygments_lexer": "ipython3",
      "version": "3.8.13"
    },
    "orig_nbformat": 4
  },
  "nbformat": 4,
  "nbformat_minor": 0
}