{
 "cells": [
  {
   "cell_type": "code",
   "execution_count": 1,
   "metadata": {},
   "outputs": [],
   "source": [
    "# Adversarial Neural Cryptography - https://arxiv.org/pdf/1610.06918.pdf"
   ]
  },
  {
   "cell_type": "code",
   "execution_count": 2,
   "metadata": {},
   "outputs": [],
   "source": [
    "# Necessary imports\n",
    "import torch\n",
    "import random"
   ]
  },
  {
   "cell_type": "code",
   "execution_count": 3,
   "metadata": {},
   "outputs": [],
   "source": [
    "# Define the length of the key and the message\n",
    "pln_txt_len = 8\n",
    "sec_key_len = 8\n",
    "cip_txt_len = 8"
   ]
  },
  {
   "cell_type": "code",
   "execution_count": 6,
   "metadata": {},
   "outputs": [
    {
     "name": "stdout",
     "output_type": "stream",
     "text": [
      "torch.Size([256, 8]) torch.Size([256, 8])\n"
     ]
    }
   ],
   "source": [
    "# Function to generate a random plain text and a secret key\n",
    "def create_batch(plain_text_len, secret_key_len, batch_size):\n",
    "    plain_text = torch.zeros(batch_size, plain_text_len)\n",
    "    secret_key = torch.zeros(batch_size, secret_key_len)\n",
    "    \n",
    "    for i in range(batch_size):\n",
    "        for j in range(plain_text_len):\n",
    "            plain_text[i][j] = random.randint(0, 1)\n",
    "        for j in range(secret_key_len):\n",
    "            secret_key[i][j] = random.randint(0, 1)\n",
    "            \n",
    "    return plain_text, secret_key\n",
    "\n",
    "plain_text, secret_key = create_batch(pln_txt_len, sec_key_len, 256)\n",
    "print(plain_text.shape, secret_key.shape)"
   ]
  },
  {
   "cell_type": "code",
   "execution_count": null,
   "metadata": {},
   "outputs": [],
   "source": [
    "# Define the neural networks\n",
    "# Alice's network"
   ]
  }
 ],
 "metadata": {
  "kernelspec": {
   "display_name": "pytorch-wsl",
   "language": "python",
   "name": "python3"
  },
  "language_info": {
   "codemirror_mode": {
    "name": "ipython",
    "version": 3
   },
   "file_extension": ".py",
   "mimetype": "text/x-python",
   "name": "python",
   "nbconvert_exporter": "python",
   "pygments_lexer": "ipython3",
   "version": "3.8.13"
  },
  "orig_nbformat": 4
 },
 "nbformat": 4,
 "nbformat_minor": 2
}
