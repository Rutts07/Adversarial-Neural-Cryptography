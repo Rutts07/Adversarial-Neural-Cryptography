{
 "cells": [
  {
   "cell_type": "code",
   "execution_count": 1,
   "metadata": {},
   "outputs": [],
   "source": [
    "# Adversarial Neural Cryptography - https://arxiv.org/pdf/1610.06918.pdf"
   ]
  },
  {
   "cell_type": "code",
   "execution_count": 38,
   "metadata": {},
   "outputs": [],
   "source": [
    "# Necessary imports\n",
    "import torch\n",
    "import random"
   ]
  },
  {
   "cell_type": "code",
   "execution_count": 39,
   "metadata": {},
   "outputs": [],
   "source": [
    "# Define the length of the key and the message\n",
    "pln_txt_len = 8\n",
    "sec_key_len = 8\n",
    "cip_txt_len = 8\n",
    "\n",
    "# Define the length of the first FC layer after input layer (Alice and Bob and Eve will have length of 2N) \n",
    "fc_len = pln_txt_len + sec_key_len"
   ]
  },
  {
   "cell_type": "code",
   "execution_count": 40,
   "metadata": {},
   "outputs": [
    {
     "name": "stdout",
     "output_type": "stream",
     "text": [
      "torch.Size([256, 8]) torch.Size([256, 8])\n"
     ]
    }
   ],
   "source": [
    "# Function to generate a random plain text and a secret key\n",
    "def create_batch(plain_text_len, secret_key_len, batch_size):\n",
    "    plain_text = torch.zeros(batch_size, plain_text_len)\n",
    "    secret_key = torch.zeros(batch_size, secret_key_len)\n",
    "    \n",
    "    for i in range(batch_size):\n",
    "        for j in range(plain_text_len):\n",
    "            plain_text[i][j] = random.randint(0, 1)\n",
    "        for j in range(secret_key_len):\n",
    "            secret_key[i][j] = random.randint(0, 1)\n",
    "            \n",
    "    return plain_text, secret_key\n",
    "\n",
    "plain_text, secret_key = create_batch(pln_txt_len, sec_key_len, 256)\n",
    "print(plain_text.shape, secret_key.shape)"
   ]
  },
  {
   "cell_type": "markdown",
   "metadata": {},
   "source": [
    "` Network Structure: Our networks follow the “mix & transform” pattern described in Section 2.4.\n",
    "The Alice network concatenates two N-bit inputs (the plaintext and the key) into a 2N-entry vector,\n",
    "using −1 and 1 to represent the bit values. [Start of Page 6 in paper]`"
   ]
  },
  {
   "cell_type": "code",
   "execution_count": 41,
   "metadata": {},
   "outputs": [
    {
     "name": "stdout",
     "output_type": "stream",
     "text": [
      "torch.Size([256, 8]) torch.Size([256, 8])\n"
     ]
    }
   ],
   "source": [
    "# Alternate way to generate a random plain text and a secret key since paper specifies bit values to be 1 or -1\n",
    "\n",
    "def create_batch_alt(plain_text_len, secret_key_len, batch_size):\n",
    "    plain_text = torch.randint(0, 2, (batch_size, plain_text_len), dtype=torch.float) * 2 - 1\n",
    "    secret_key = torch.randint(0, 2, (batch_size, secret_key_len), dtype=torch.float) * 2 - 1\n",
    "    \n",
    "    return plain_text, secret_key\n",
    "\n",
    "plain_text, secret_key = create_batch_alt(pln_txt_len, sec_key_len, 256)\n",
    "print(plain_text.shape, secret_key.shape)"
   ]
  },
  {
   "cell_type": "code",
   "execution_count": 42,
   "metadata": {},
   "outputs": [],
   "source": [
    "# Alice's network\n",
    "class Alice(torch.nn.Module):\n",
    "    def __init__(self, plain_text_len, secret_key_len, cipher_text_len, fc_len):\n",
    "        super(Alice, self).__init__()\n",
    "        self.plain_text_len = plain_text_len\n",
    "        self.secret_key_len = secret_key_len\n",
    "        self.cipher_text_len = cipher_text_len\n",
    "        self.fc_len = fc_len\n",
    "        \n",
    "        self.fc1 = torch.nn.Linear(plain_text_len + secret_key_len, fc_len)\n",
    "        self.sigmoid = torch.nn.Sigmoid()\n",
    "        self.conv1 = torch.nn.Conv1d(1, 2, 4, stride=1)\n",
    "        self.sigmoid = torch.nn.Sigmoid()\n",
    "        self.conv2 = torch.nn.Conv1d(2, 4, 2, stride=2)\n",
    "        self.sigmoid = torch.nn.Sigmoid()\n",
    "        self.conv3 = torch.nn.Conv1d(4, 4, 1, stride=1)\n",
    "        self.sigmoid = torch.nn.Sigmoid()\n",
    "        self.conv4 = torch.nn.Conv1d(4, 1, 1, stride=1)\n",
    "        self.tanh = torch.nn.Tanh()\n",
    "        \n",
    "    def forward(self, plain_text, secret_key):\n",
    "        x = torch.cat((plain_text, secret_key), 1) # Concatenate the plain text and the secret key\n",
    "        x = self.fc1(x)\n",
    "        x = self.sigmoid(x)\n",
    "        x = self.conv1(x)\n",
    "        x = self.sigmoid(x)\n",
    "        x = self.conv2(x)\n",
    "        x = self.sigmoid(x)\n",
    "        x = self.conv3(x)\n",
    "        x = self.sigmoid(x)\n",
    "        x = self.conv4(x)\n",
    "        x = self.tanh(x)\n",
    "        x = torch.squeeze(x, 1)\n",
    "        return x"
   ]
  },
  {
   "cell_type": "code",
   "execution_count": 43,
   "metadata": {},
   "outputs": [],
   "source": [
    "# Bob's network\n",
    "class Bob(torch.nn.Module):\n",
    "    def __init__(self, plain_text_len, secret_key_len, cipher_text_len, fc_len):\n",
    "        super(Bob, self).__init__()\n",
    "        self.plain_text_len = plain_text_len\n",
    "        self.secret_key_len = secret_key_len\n",
    "        self.cipher_text_len = cipher_text_len\n",
    "        self.fc_len = fc_len\n",
    "        \n",
    "        self.fc1 = torch.nn.Linear(cipher_text_len + secret_key_len, fc_len)\n",
    "        self.sigmoid = torch.nn.Sigmoid()\n",
    "        self.conv1 = torch.nn.Conv1d(1, 2, 4, stride=1)\n",
    "        self.sigmoid = torch.nn.Sigmoid()\n",
    "        self.conv2 = torch.nn.Conv1d(2, 4, 2, stride=2)\n",
    "        self.sigmoid = torch.nn.Sigmoid()\n",
    "        self.conv3 = torch.nn.Conv1d(4, 4, 1, stride=1)\n",
    "        self.sigmoid = torch.nn.Sigmoid()\n",
    "        self.conv4 = torch.nn.Conv1d(4, 1, 1, stride=1)\n",
    "        self.tanh = torch.nn.Tanh()\n",
    "        \n",
    "    def forward(self, cipher_text, secret_key):\n",
    "        x = torch.cat((cipher_text, secret_key), 1) # Concatenate the cipher text and the secret key\n",
    "        x = self.fc1(x)\n",
    "        x = self.sigmoid(x)\n",
    "        x = self.conv1(x)\n",
    "        x = self.sigmoid(x)\n",
    "        x = self.conv2(x)\n",
    "        x = self.sigmoid(x)\n",
    "        x = self.conv3(x)\n",
    "        x = self.sigmoid(x)\n",
    "        x = self.conv4(x)\n",
    "        x = self.tanh(x)\n",
    "        x = torch.squeeze(x, 1)\n",
    "        return x"
   ]
  },
  {
   "cell_type": "code",
   "execution_count": 44,
   "metadata": {},
   "outputs": [],
   "source": [
    "# Eve's network\n",
    "class Eve(torch.nn.Module):\n",
    "    def __init__(self, plain_text_len,  cipher_text_len, fc_len):\n",
    "        super(Eve, self).__init__()\n",
    "        self.plain_text_len = plain_text_len\n",
    "        self.cipher_text_len = cipher_text_len\n",
    "        self.fc_len = fc_len\n",
    "\n",
    "        self.fc1 = torch.nn.Linear(cipher_text_len, fc_len)\n",
    "        self.sigmoid = torch.nn.Sigmoid()\n",
    "        self.conv1 = torch.nn.Conv1d(1, 2, 4, stride=1)\n",
    "        self.sigmoid = torch.nn.Sigmoid()\n",
    "        self.conv2 = torch.nn.Conv1d(2, 4, 2, stride=2)\n",
    "        self.sigmoid = torch.nn.Sigmoid()\n",
    "        self.conv3 = torch.nn.Conv1d(4, 4, 1, stride=1)\n",
    "        self.sigmoid = torch.nn.Sigmoid()\n",
    "        self.conv4 = torch.nn.Conv1d(4, 1, 1, stride=1)\n",
    "        self.tanh = torch.nn.Tanh()\n",
    "\n",
    "    def forward(self, cipher_text):\n",
    "        x = cipher_text\n",
    "        x = self.fc1(x)\n",
    "        x = self.sigmoid(x)\n",
    "        x = self.conv1(x)\n",
    "        x = self.sigmoid(x)\n",
    "        x = self.conv2(x)\n",
    "        x = self.sigmoid(x)\n",
    "        x = self.conv3(x)\n",
    "        x = self.sigmoid(x)\n",
    "        x = self.conv4(x)\n",
    "        x = self.tanh(x)\n",
    "        x = torch.squeeze(x, 1)\n",
    "        return x"
   ]
  },
  {
   "cell_type": "code",
   "execution_count": null,
   "metadata": {},
   "outputs": [],
   "source": [
    "# Hyperparameters"
   ]
  },
  {
   "cell_type": "code",
   "execution_count": null,
   "metadata": {},
   "outputs": [],
   "source": [
    "# Train the networks"
   ]
  }
 ],
 "metadata": {
  "kernelspec": {
   "display_name": "pytorch-wsl",
   "language": "python",
   "name": "python3"
  },
  "language_info": {
   "codemirror_mode": {
    "name": "ipython",
    "version": 3
   },
   "file_extension": ".py",
   "mimetype": "text/x-python",
   "name": "python",
   "nbconvert_exporter": "python",
   "pygments_lexer": "ipython3",
   "version": "3.9.5"
  },
  "orig_nbformat": 4
 },
 "nbformat": 4,
 "nbformat_minor": 2
}
